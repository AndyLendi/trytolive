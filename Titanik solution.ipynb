{
  "nbformat": 4,
  "nbformat_minor": 0,
  "metadata": {
    "colab": {
      "name": "Титаник, без копий",
      "provenance": [],
      "collapsed_sections": []
    },
    "kernelspec": {
      "display_name": "Python 3",
      "name": "python3"
    }
  },
  "cells": [
    {
      "cell_type": "code",
      "metadata": {
        "colab": {
          "resources": {
            "http://localhost:8080/nbextensions/google.colab/files.js": {
              "data": "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",
              "ok": true,
              "headers": [
                [
                  "content-type",
                  "application/javascript"
                ]
              ],
              "status": 200,
              "status_text": ""
            }
          },
          "base_uri": "https://localhost:8080/",
          "height": 127
        },
        "id": "LP8-YIWlYkSI",
        "outputId": "7918689b-6c9a-46ab-d2cd-fb1964619be5"
      },
      "source": [
        "import pandas as pd                                                             #Download all libarys(except ML) and upload file into colab and make them .csv\n",
        "from google.colab import files\n",
        "import io\n",
        "import seaborn as sns\n",
        "import matplotlib.pyplot as plt\n",
        "import re\n",
        "uploaded_train = files.upload()\n",
        "uploaded_test = files.upload()"
      ],
      "execution_count": null,
      "outputs": [
        {
          "output_type": "display_data",
          "data": {
            "text/html": [
              "\n",
              "     <input type=\"file\" id=\"files-7398ee02-8bf9-4016-8fd7-8ed746950701\" name=\"files[]\" multiple disabled\n",
              "        style=\"border:none\" />\n",
              "     <output id=\"result-7398ee02-8bf9-4016-8fd7-8ed746950701\">\n",
              "      Upload widget is only available when the cell has been executed in the\n",
              "      current browser session. Please rerun this cell to enable.\n",
              "      </output>\n",
              "      <script src=\"/nbextensions/google.colab/files.js\"></script> "
            ],
            "text/plain": [
              "<IPython.core.display.HTML object>"
            ]
          },
          "metadata": {
            "tags": []
          }
        },
        {
          "output_type": "stream",
          "text": [
            "Saving train.csv to train.csv\n"
          ],
          "name": "stdout"
        },
        {
          "output_type": "display_data",
          "data": {
            "text/html": [
              "\n",
              "     <input type=\"file\" id=\"files-21880254-523c-4b37-aa25-d95a5022c6f1\" name=\"files[]\" multiple disabled\n",
              "        style=\"border:none\" />\n",
              "     <output id=\"result-21880254-523c-4b37-aa25-d95a5022c6f1\">\n",
              "      Upload widget is only available when the cell has been executed in the\n",
              "      current browser session. Please rerun this cell to enable.\n",
              "      </output>\n",
              "      <script src=\"/nbextensions/google.colab/files.js\"></script> "
            ],
            "text/plain": [
              "<IPython.core.display.HTML object>"
            ]
          },
          "metadata": {
            "tags": []
          }
        },
        {
          "output_type": "stream",
          "text": [
            "Saving test.csv to test.csv\n"
          ],
          "name": "stdout"
        }
      ]
    },
    {
      "cell_type": "code",
      "metadata": {
        "id": "IP1Q6zoscQPp"
      },
      "source": [
        "def make_group(name):                                                           #Refactor name into they tittle. \n",
        "  group_name = re.findall(r'[A-Z][a-z]+\\.', name)[0]\n",
        "  tittle_list=['Mr.','Miss.','Mrs.','Master.']\n",
        "  return group_name if group_name in tittle_list else 'Other'\n",
        "\n",
        "def fill_na_age(df):                                                            #Put median depends on previous group  \n",
        "  df = df.merge(median_df,on='Name')\n",
        "  df = pd.get_dummies(df,columns=['Name'],drop_first=True)\n",
        "  df.Age = df.fillna(0).apply(lambda x:round(x.Median) if \n",
        "                              x.Age == 0 else round(x.Age), axis=1)\n",
        "  df = df.drop(columns=['Median'])\n",
        "  return df\n",
        "\n",
        "#Some preparation and Make equallity our Train and Test dataFrame\n",
        "def make_eq(df):\n",
        "  df.Name= df.Name.apply(lambda x:make_group(x))\n",
        "  df.Sex = pd.get_dummies(df.Sex,drop_first = True)\n",
        "  df = pd.get_dummies(df,columns=['Pclass'],drop_first = True)\n",
        "  df.Cabin = df.Cabin.str.get(0) \n",
        "  cabin_list = ['A','B','C','D','E']\n",
        "  df.Cabin = df.fillna('Z').apply(lambda x:x.Cabin if x.Cabin in cabin_list     #Z is a NA_cabin,Y if we have info about cabin \n",
        "                                  else 'Z', axis=1) \n",
        "  df = pd.get_dummies(df,columns=['Cabin'],drop_first=True)                     #Split our 6 type of cabin to different series\n",
        "  df.Fare = df.Fare.fillna(45)                  \n",
        "  temp = df.loc[:,['PassengerId','Fare']]                                       #Group 'Fare' series\n",
        "  temp.Fare = temp.apply(lambda x:round(x.Fare/10) if x.Fare<=100 \n",
        "                         else 11,axis=1)\n",
        "  temp.Fare = temp.apply(lambda x:1 if x.Fare == 2 or x.Fare == 3               #Graph represent,that exist some simular result in this group people,who paid 25<x<56\n",
        "                         or x.Fare == 4 or x.Fare == 5 else 0,axis=1) \n",
        "  df.Fare = df.apply(lambda x:round(x.Fare),axis=1)                           \n",
        "  temp.columns=['PassengerId','FareEq']\n",
        "  df = df.merge(temp,on='PassengerId')\n",
        "  df.Parch = df.apply(lambda x:1 if x.Parch+x.SibSp==0 else 0,axis=1)           #Create series - if Passenger travel alone =0 else 1\n",
        "  df = df.rename(columns={\"Parch\": \"isAlone\"})                                  \n",
        "  df = df.drop(columns=['Ticket','Embarked','SibSp'])                           #drop useless columns\n",
        "  return df\n"
      ],
      "execution_count": null,
      "outputs": []
    },
    {
      "cell_type": "code",
      "metadata": {
        "id": "ubqRwO4rItKk"
      },
      "source": [
        "temp=train_df                                                                   #Check hypothesis. Is it true,that we have simular group people by Fare and Survived\n",
        "temp.Fare = temp.apply(lambda x:round(x.Fare/10) if x.Fare<=100 else 11,axis=1)\n",
        "temp=temp.loc[:,['Survived','Fare']]\n",
        "ax = sns.barplot(x=\"Fare\", y=\"Survived\", data=train_df)                         # That's why we create new features,called 'Fare_eq'"
      ],
      "execution_count": null,
      "outputs": []
    },
    {
      "cell_type": "code",
      "metadata": {
        "id": "wiqgI0jTA0uG"
      },
      "source": [
        "train_df = make_eq(pd.read_csv(io.BytesIO(uploaded_train['train.csv'])))        #Make train_df equallity\n",
        "test_df = make_eq(pd.read_csv(io.BytesIO(uploaded_test['test.csv'])))           #Make test_df equallity\n",
        "merg_df = pd.read_csv(io.BytesIO(uploaded_train['train.csv'])).append(          # create Df(Train+Test) to fill NA Ages()\n",
        "    pd.read_csv(io.BytesIO(uploaded_test['test.csv'])),ignore_index=True) \n",
        "merg_df.Name= merg_df.Name.apply(lambda x:make_group(x))                        #I use median of ALL dataset,because we have not much data.1309 of all passanger and 419 in test dataFrame. \n",
        "                                                                                #So using median of all passenger will be more usefull\n",
        "median_df = merg_df.groupby(by='Name',as_index=False)['Age'].median()\n",
        "median_df.columns = ['Name','Median']\n",
        "train_df =fill_na_age(train_df)                                                 #Fill empty space's on Age Series in Train dataset\n",
        "test_df = fill_na_age(test_df)                                                  #Fill empty space's on Age Series in Test dataset"
      ],
      "execution_count": null,
      "outputs": []
    },
    {
      "cell_type": "code",
      "metadata": {
        "id": "L3wYFsU87Zjq"
      },
      "source": [
        "target = train_df.Survived                                                      #Create Target('Survived')\n",
        "X_train = train_df.drop(columns=['Survived','PassengerId'])                     #Create Train(Model train by that DF)\n",
        "test_id = test_df.PassengerId                                                   #Save PassengerId to connect with Predict 'Survived' Series.\n",
        "X_test = test_df.drop(columns=['PassengerId'])                                  #Create Test(Model will predict this passenger's)"
      ],
      "execution_count": null,
      "outputs": []
    },
    {
      "cell_type": "code",
      "metadata": {
        "id": "OvmYvsgB7Ztz"
      },
      "source": [
        "%%time                                             \n",
        "import numpy as np\n",
        "import xgboost as xgb\n",
        "from xgboost.sklearn import XGBClassifier  \n",
        "from sklearn.model_selection import ShuffleSplit\n",
        "from sklearn.model_selection import GridSearchCV\n",
        "from sklearn.ensemble import RandomForestClassifier\n",
        "from sklearn.model_selection import StratifiedKFold\n",
        "from sklearn.linear_model import LogisticRegression\n",
        "from sklearn.metrics import accuracy_score\n",
        "\n",
        "cv=StratifiedKFold(n_splits=3,shuffle=True,random_state=5)                      #Use SfK,because we need to save balance of classes(People,who died>People,who survived)\n",
        "param_test2 = {                                                                 #Tunning hyperparams\n",
        "   'bootstrap': [True,False],\n",
        "  'class_weight':['balanced', 'balanced_subsample'],\n",
        " 'max_depth': range(2,10,1),\n",
        " 'criterion': ['gini','entropy'],\n",
        " 'max_features': ['auto','log2'],\n",
        " 'min_samples_leaf': [1, 2, 4,7],\n",
        " 'min_samples_split': [2, 3, 5,7],\n",
        " 'n_estimators': range(20,140,20)\n",
        "              }\n",
        "gsearch1 = GridSearchCV(estimator =   RandomForestClassifier(),                 #Train our model\n",
        " param_grid = param_test2,verbose=4,n_jobs=-1,cv=cv).fit(X_train,target)\n",
        "print(gsearch1.best_params_, gsearch1.best_score_,                              #Print best params,that we found over all candidates, Score(average over validation) and One-time-score \n",
        "      accuracy_score(target, gsearch1.predict(X_train)))                        "
      ],
      "execution_count": null,
      "outputs": []
    },
    {
      "cell_type": "code",
      "metadata": {
        "id": "OoqMsrlNnPLv"
      },
      "source": [
        "answer = gsearch1.predict(X_test)                                               #Predict Test dataset\n",
        "solution = pd.concat([pd.Series(answer),test_id,],axis=1)                       #Connect our Predictions with PassengersId\n",
        "columns = ['Survived','PassengerId']\n",
        "solution = solution.sort_values(by=['PassengerId'])\n",
        "solution = solution.reset_index(drop=True)\n",
        "solution = solution[['PassengerId',0]]\n",
        "solution.columns=['PassengerId','Survived']\n",
        "solution"
      ],
      "execution_count": null,
      "outputs": []
    },
    {
      "cell_type": "code",
      "metadata": {
        "colab": {
          "base_uri": "https://localhost:8080/"
        },
        "id": "AoYUHMxJBE8v",
        "outputId": "24b37c58-9a91-4b61-dea5-a21402755490"
      },
      "source": [
        "from google.colab import drive                                                  #Download Answer to Google Drive\n",
        "drive.mount('drive')\n",
        "solution.to_csv('Answer.csv',index=False)\n",
        "!cp Answer.csv 'drive/My Drive/rep/'"
      ],
      "execution_count": null,
      "outputs": [
        {
          "output_type": "stream",
          "text": [
            "Drive already mounted at drive; to attempt to forcibly remount, call drive.mount(\"drive\", force_remount=True).\n"
          ],
          "name": "stdout"
        }
      ]
    },
    {
      "cell_type": "code",
      "metadata": {
        "id": "5y2Cr23niV-2"
      },
      "source": [
        "#Tuning graveyard:\n",
        "#Random Tree\n",
        "# 'bootstrap': [True,False],\n",
        "#   'class_weight':['balanced', 'balanced_subsample'],\n",
        "#  'max_depth': range(2,10,1),\n",
        "#  'criterion': ['gini','entropy'],\n",
        "#  'max_features': ['auto'],\n",
        "#  'min_samples_leaf': [1, 2, 4,7],\n",
        "#  'min_samples_split': [2, 3, 5,7],\n",
        "#  'n_estimators': range(80,190,20)\n",
        "#XGBBOST\n",
        "# 'max_depth':range(3,8,1),\n",
        "#      'min_child_weight':range(1,6,2),\n",
        "#      'learning_rate':np.logspace(-3,0.3,num=6),\n",
        "#      'n_estimators':range(70,170,20),\n",
        "#      'subsample': np.logspace(-0.3,0,num=3),\n",
        "#      'gamma': [0,0.5,1,6,10],\n",
        "#      'scale_pos_weight':[1,1.5,2]"
      ],
      "execution_count": null,
      "outputs": []
    },
    {
      "cell_type": "code",
      "metadata": {
        "id": "IOOLD4XDiXze"
      },
      "source": [
        "#Test graveyard:\n",
        "#XGBClassifier(objective= 'binary:logistic')\n",
        " #{'learning_rate': 0.1, 'max_depth': 5, 'min_child_weight': 3, 'n_estimators': 160} 0.875 0.9102132435465768 CV = 4\n",
        " #{'learning_rate': 0.2, 'max_depth': 6, 'min_child_weight': 5, 'n_estimators': 110} 0.8611111111111112 0.9147025813692481 CV = 4\n",
        " #{'learning_rate': 0.2, 'max_depth': 5, 'min_child_weight': 6, 'n_estimators': 100} 0.8755555555555556 0.9046015712682379 CV = 5\n",
        " #{'learning_rate': 0.15, 'max_depth': 3, 'min_child_weight': 5, 'n_estimators': 100} 0.8422222222222222 0.8799102132435466 CV = 5 add new colomns (isAlone)\n",
        " #{'learning_rate': 0.2, 'max_depth': 5, 'min_child_weight': 4, 'n_estimators': 130} 0.8777777777777779 0.9090909090909091 CV = 5 add new colomns (isAlone)\n",
        " #{'learning_rate': 0.3, 'max_depth': 3, 'min_child_weight': 3, 'n_estimators': 110} 0.8481481481481481 0.9012345679012346 CV =3 \n",
        " #{'learning_rate': 0.3, 'max_depth': 7, 'min_child_weight': 5, 'n_estimators': 150} 0.8407407407407407 0.9135802469135802 cv = 3\n",
        " #{'learning_rate': 0.5, 'max_depth': 6, 'min_child_weight': 3, 'n_estimators': 130} 0.8422222222222222 0.9405162738496072 CV = 10\n",
        " #{'learning_rate': 0.5, 'max_depth': 2, 'min_child_weight': 2, 'n_estimators': 90} 0.8638888888888888 0.8922558922558923 CV =4\n",
        " #{'learning_rate': 0.4, 'max_depth': 3, 'min_child_weight': 5, 'n_estimators': 130} 0.8861111111111111 0.9001122334455668 CV=4\n",
        " #{'learning_rate': 0.5, 'max_depth': 2, 'min_child_weight': 2, 'n_estimators': 130} 0.85 0.9012345679012346 CV = 10 Результат 0.77033\n",
        " #{'learning_rate': 0.6, 'max_depth': 3, 'min_child_weight': 5, 'n_estimators': 70} 0.868888888888889 0.898989898989899 CV = 10 0.76794\n",
        "#Random Treee\n",
        "#{'bootstrap': False, 'max_depth': None, 'max_features': 'auto', 'min_samples_leaf': 4, 'min_samples_split': 5, 'n_estimators': 100} 0.8355555555555556 0.8900112233445566 CV = 10 BEST SCORE = 0.78229\n",
        "#{'bootstrap': False, 'max_depth': 6, 'max_features': 'auto', 'min_samples_leaf': 4, 'min_samples_split': 2, 'n_estimators': 100} 0.8222222222222223 0.8619528619528619  cv=4 SCORE = 0.78229\n",
        "#{'bootstrap': False, 'max_depth': 6, 'max_features': 'auto', 'min_samples_leaf': 2, 'min_samples_split': 5, 'n_estimators': 100} 0.8444444444444444 0.8720538720538721 cv = 2 BEST SCORE OVER ALL 0.79425\n",
        "#{'bootstrap': False, 'max_depth': 15, 'max_features': 'auto', 'min_samples_leaf': 2, 'min_samples_split': 2, 'n_estimators': 130} 0.8444444444444444 0.9270482603815937 cv=1 score 0.77990\n",
        "#{'bootstrap': False, 'class_weight': 'balanced', 'criterion': 'gini', 'max_depth': None, 'max_features': 'log2', 'min_samples_leaf': 2, 'min_samples_split': 7, 'n_estimators': 140} 0.8777777777777778 0.9147025813692481 CV=2 0.76315\n",
        "#{'bootstrap': False, 'class_weight': 'balanced', 'criterion': 'gini', 'max_depth': 2, 'max_features': 'log2', 'min_samples_leaf': 1, 'min_samples_split': 7, 'n_estimators': 80} 0.793462488033456 0.7822671156004489\n",
        "#{'bootstrap': False, 'class_weight': 'balanced', 'criterion': 'gini', 'max_depth': 2, 'max_features': 'log2', 'min_samples_leaf': 1, 'min_samples_split': 7, 'n_estimators': 80} 0.793462488033456 0.7822671156004489 CV=2 0.75119\n",
        "#{'bootstrap': False, 'class_weight': 'balanced', 'criterion': 'gini', 'max_depth': 2, 'max_features': 'auto', 'min_samples_leaf': 7, 'min_samples_split': 2, 'n_estimators': 180} 0.7654320987654321 0.7822671156004489 CV=3 0.75119\n",
        "#{'bootstrap': False, 'class_weight': 'balanced_subsample', 'criterion': 'entropy', 'max_depth': 8, 'max_features': 'auto', 'min_samples_leaf': 1, 'min_samples_split': 7, 'n_estimators': 140} 0.8136897264070136 0.8945005611672279 CV=2 0.77511\n",
        "#Random Treee Equality Features\n",
        "#{'bootstrap': True, 'class_weight': 'balanced', 'criterion': 'entropy', 'max_depth': 9, 'max_features': 'auto', 'min_samples_leaf': 2, 'min_samples_split': 3, 'n_estimators': 80} 0.8383770287141074 0.8967452300785634 CV = 10 0.77272\n",
        "#{'bootstrap': False, 'class_weight': 'balanced', 'criterion': 'entropy', 'max_depth': 9, 'max_features': 'auto', 'min_samples_leaf': 1, 'min_samples_split': 3, 'n_estimators': 80} 0.8125736887186981 0.920314253647587 CV=2 0.78229\n",
        "#{'bootstrap': True, 'class_weight': 'balanced_subsample', 'criterion': 'gini', 'max_depth': 8, 'max_features': 'auto', 'min_samples_leaf': 2, 'min_samples_split': 2, 'n_estimators': 120} 0.8350168350168351 0.8900112233445566 CV=3 0.77272\n",
        "#'bootstrap': True, 'class_weight': 'balanced', 'criterion': 'entropy', 'max_depth': 8, 'max_features': 'auto', 'min_samples_leaf': 2, 'min_samples_split': 5, 'n_estimators': 160} 0.8372318506847655 0.8832772166105499 CV=4  0.77511\n",
        "#LogicReg\n",
        "#{'C': 1.2915496650148828, 'class_weight': None, 'max_iter': 110, 'penalty': 'l2', 'solver': 'lbfgs'} 0.8024814833476093 0.8215488215488216 CV=2 0.76555\n",
        "#{'C': 1.2915496650148828, 'class_weight': None, 'max_iter': 100, 'penalty': 'l2', 'solver': 'lbfgs'} 0.8125717852684143 0.8181818181818182 CV=10 0.75837\n",
        "#XGBOST\n",
        "#{'gamma': 0.5, 'learning_rate': 0.43651583224016566, 'max_depth': 7, 'min_child_weight': 3, 'n_estimators': 110, 'scale_pos_weight': 1, 'subsample': 0.7079457843841379} 0.8305361011739809 0.9270482603815937 CV=2 0.75358\n",
        "#{'gamma': 1, 'learning_rate': 0.43651583224016566, 'max_depth': 4, 'min_child_weight': 3, 'n_estimators': 70, 'scale_pos_weight': 1, 'subsample': 0.5011872336272722} 0.8507615480649188 0.8922558922558923 CV = 10 0.76555\n",
        "#{'gamma': 0, 'learning_rate': 0.09549925860214355, 'max_depth': 4, 'min_child_weight': 3, 'n_estimators': 110, 'scale_pos_weight': 1, 'subsample': 0.7079457843841379} 0.8451070240411775 0.8956228956228957 CV=5  0.77272\n",
        "#{'gamma': 0, 'learning_rate': 0.43651583224016566, 'max_depth': 3, 'min_child_weight': 3, 'n_estimators': 110, 'scale_pos_weight': 1, 'subsample': 0.7079457843841379} 0.840628507295174 0.9001122334455668 CV=4\n",
        "#NEW DATASET CABIN Y AND CABIN Z\n",
        "#XGBBOST\n",
        "#{'gamma': 0, 'learning_rate': 0.43651583224016566, 'max_depth': 5, 'min_child_weight': 3, 'n_estimators': 90, 'scale_pos_weight': 1, 'subsample': 0.5011872336272722} 0.8350178868342822 0.8900112233445566 CV=2 0.72966\n",
        "#{'gamma': 0, 'learning_rate': 0.09549925860214355, 'max_depth': 5, 'min_child_weight': 3, 'n_estimators': 100, 'scale_pos_weight': 1, 'subsample': 0.5011872336272722} 0.8428661100998054 0.8877665544332211 CV=5 0.77751\n",
        "#{'gamma': 1, 'learning_rate': 0.43651583224016566, 'max_depth': 7, 'min_child_weight': 5, 'n_estimators': 110, 'scale_pos_weight': 1, 'subsample': 0.7079457843841379} 0.8462921348314607 0.898989898989899 CV=10 0.76794\n",
        "#RandomTree\n",
        "#{'bootstrap': True, 'class_weight': 'balanced_subsample', 'criterion': 'gini', 'max_depth': 9, 'max_features': 'log2', 'min_samples_leaf': 1, 'min_samples_split': 3, 'n_estimators': 120} 0.8361057058565062 0.9158249158249159 CV=5 0.77511\n",
        "#{'bootstrap': False, 'class_weight': 'balanced', 'criterion': 'entropy', 'max_depth': 8, 'max_features': 'auto', 'min_samples_leaf': 1, 'min_samples_split': 3, 'n_estimators': 20} 0.8148183604574999 0.8933782267115601 CV=2 0.77272\n",
        "#{'bootstrap': True, 'class_weight': 'balanced_subsample', 'criterion': 'gini', 'max_depth': 9, 'max_features': 'log2', 'min_samples_leaf': 1, 'min_samples_split': 5, 'n_estimators': 20} 0.8271604938271606 0.8877665544332211 CV=3 0.68421"
      ],
      "execution_count": null,
      "outputs": []
    }
  ]
}