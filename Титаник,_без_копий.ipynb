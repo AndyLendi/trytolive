{
  "nbformat": 4,
  "nbformat_minor": 0,
  "metadata": {
    "colab": {
      "name": "Титаник, без копий",
      "provenance": [],
      "collapsed_sections": []
    },
    "kernelspec": {
      "display_name": "Python 3",
      "name": "python3"
    }
  },
  "cells": [
    {
      "cell_type": "code",
      "metadata": {
        "colab": {
          "resources": {
            "http://localhost:8080/nbextensions/google.colab/files.js": {
              "data": "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",
              "ok": true,
              "headers": [
                [
                  "content-type",
                  "application/javascript"
                ]
              ],
              "status": 200,
              "status_text": ""
            }
          },
          "base_uri": "https://localhost:8080/",
          "height": 127
        },
        "id": "LP8-YIWlYkSI",
        "outputId": "7918689b-6c9a-46ab-d2cd-fb1964619be5"
      },
      "source": [
        "#Download all libarys(except ML) and upload file into colab and make them .csv\r\n",
        "import pandas as pd\r\n",
        "from google.colab import files\r\n",
        "import io\r\n",
        "import seaborn as sns\r\n",
        "import matplotlib.pyplot as plt\r\n",
        "import re\r\n",
        "uploaded_train = files.upload()\r\n",
        "uploaded_test = files.upload()"
      ],
      "execution_count": null,
      "outputs": [
        {
          "output_type": "display_data",
          "data": {
            "text/html": [
              "\n",
              "     <input type=\"file\" id=\"files-7398ee02-8bf9-4016-8fd7-8ed746950701\" name=\"files[]\" multiple disabled\n",
              "        style=\"border:none\" />\n",
              "     <output id=\"result-7398ee02-8bf9-4016-8fd7-8ed746950701\">\n",
              "      Upload widget is only available when the cell has been executed in the\n",
              "      current browser session. Please rerun this cell to enable.\n",
              "      </output>\n",
              "      <script src=\"/nbextensions/google.colab/files.js\"></script> "
            ],
            "text/plain": [
              "<IPython.core.display.HTML object>"
            ]
          },
          "metadata": {
            "tags": []
          }
        },
        {
          "output_type": "stream",
          "text": [
            "Saving train.csv to train.csv\n"
          ],
          "name": "stdout"
        },
        {
          "output_type": "display_data",
          "data": {
            "text/html": [
              "\n",
              "     <input type=\"file\" id=\"files-21880254-523c-4b37-aa25-d95a5022c6f1\" name=\"files[]\" multiple disabled\n",
              "        style=\"border:none\" />\n",
              "     <output id=\"result-21880254-523c-4b37-aa25-d95a5022c6f1\">\n",
              "      Upload widget is only available when the cell has been executed in the\n",
              "      current browser session. Please rerun this cell to enable.\n",
              "      </output>\n",
              "      <script src=\"/nbextensions/google.colab/files.js\"></script> "
            ],
            "text/plain": [
              "<IPython.core.display.HTML object>"
            ]
          },
          "metadata": {
            "tags": []
          }
        },
        {
          "output_type": "stream",
          "text": [
            "Saving test.csv to test.csv\n"
          ],
          "name": "stdout"
        }
      ]
    },
    {
      "cell_type": "code",
      "metadata": {
        "id": "IP1Q6zoscQPp"
      },
      "source": [
        "#Prepare our df to fill na in Age. Group people \r\n",
        "def make_group(name):\r\n",
        "  group_name = re.findall(r'[A-Z][a-z]+\\.', name)[0]\r\n",
        "  temp2=['Mr.','Miss.','Mrs.','Master.']\r\n",
        "  return group_name if group_name in temp2 else 'Other'\r\n",
        "\r\n",
        "#Put median depends on previous group  \r\n",
        "def fill_na_age(df):\r\n",
        "  df = df.merge(temp,on='Name')\r\n",
        "  df = pd.get_dummies(df,columns=['Name'],drop_first=True)\r\n",
        "  df.Age = df.fillna(0).apply(lambda x:round(x.Median) if x.Age == 0 else round(x.Age), axis=1)\r\n",
        "  df = df.drop(columns=['Median'])\r\n",
        "  return df\r\n",
        "\r\n",
        "#Test represent,that use this function useless.Reason: underfitting\r\n",
        "# def cat_series(df):\r\n",
        "#   df.Age=df.apply(lambda x:round(x.Age/10),axis=1)\r\n",
        "#   df = pd.get_dummies(df,columns=['Age'],drop_first = True)\r\n",
        "#   return df\r\n",
        "\r\n",
        "#Some preparation and Make equallity our Train and Test dataFrame\r\n",
        "def make_eq(df):\r\n",
        "  df.Name= df.Name.apply(lambda x:make_group(x))\r\n",
        "  df.Sex = pd.get_dummies(df.Sex,drop_first = True)\r\n",
        "  df = pd.get_dummies(df,columns=['Pclass'],drop_first = True)\r\n",
        "  df.Cabin = df.Cabin.str.get(0) \r\n",
        "  df.Fare = df.Fare.fillna(45)\r\n",
        "  temp_list = ['A','B','C','D','E']\r\n",
        "  df.Cabin = df.fillna('Z').apply(lambda x:x.Cabin if x.Cabin in temp_list else 'Z', axis=1) #Z is a NA_cabin,Y if we have info about cabin\r\n",
        "  df = pd.get_dummies(df,columns=['Cabin'],drop_first=True)\r\n",
        "  temp = df.loc[:,['PassengerId','Fare']] \r\n",
        "  temp.Fare = temp.apply(lambda x:round(x.Fare/10) if x.Fare<=100 else 11,axis=1)\r\n",
        "  temp.Fare = temp.apply(lambda x:1 if x.Fare == 2 or x.Fare == 3 or x.Fare == 4 or x.Fare == 5 else 0,axis=1) #Graph represent,that exist some simular result in this group people,who paid 25<x<56\r\n",
        "  temp.columns=['PassengerId','FareEq']\r\n",
        "  df = df.merge(temp,on='PassengerId')\r\n",
        "  df.Parch = df.apply(lambda x:1 if x.Parch+x.SibSp==0 else 0,axis=1)\r\n",
        "  df = df.rename(columns={\"Parch\": \"isAlone\"}) #drop useless columns\r\n",
        "  df = df.drop(columns=['Ticket','Embarked','SibSp'])\r\n",
        "  df.Fare = df.apply(lambda x:round(x.Fare),axis=1)\r\n",
        "  return df\r\n"
      ],
      "execution_count": null,
      "outputs": []
    },
    {
      "cell_type": "code",
      "metadata": {
        "id": "TQ7mrYBBYqQ-"
      },
      "source": [
        "train_df = make_eq(pd.read_csv(io.BytesIO(uploaded_train['train.csv']))) # Make df equallity\r\n",
        "test_df = make_eq(pd.read_csv(io.BytesIO(uploaded_test['test.csv'])))\r\n",
        "\r\n"
      ],
      "execution_count": null,
      "outputs": []
    },
    {
      "cell_type": "code",
      "metadata": {
        "id": "ubqRwO4rItKk"
      },
      "source": [
        "temp=train_df\r\n",
        "temp.Fare = temp.apply(lambda x:round(x.Fare/10) if x.Fare<=100 else 11,axis=1)\r\n",
        "temp=temp.loc[:,['Survived','Fare']]"
      ],
      "execution_count": null,
      "outputs": []
    },
    {
      "cell_type": "code",
      "metadata": {
        "colab": {
          "base_uri": "https://localhost:8080/",
          "height": 279
        },
        "id": "P26Qc6S3MAJ3",
        "outputId": "cb846d64-dff2-4e42-b99b-3be92193d926"
      },
      "source": [
        "ax = sns.barplot(x=\"Fare\", y=\"Survived\", data=train_df) # That's why we create new features,called 'Fare_eq'"
      ],
      "execution_count": null,
      "outputs": [
        {
          "output_type": "display_data",
          "data": {
            "image/png": "[encoded data removed]",
            "text/plain": [
              "<Figure size 432x288 with 1 Axes>"
            ]
          },
          "metadata": {
            "tags": [],
            "needs_background": "light"
          }
        }
      ]
    },
    {
      "cell_type": "code",
      "metadata": {
        "id": "qlJXYMiRAyPI"
      },
      "source": [
        "merg_df = pd.read_csv(io.BytesIO(uploaded_train['train.csv'])).append(\r\n",
        "    pd.read_csv(io.BytesIO(uploaded_test['test.csv'])),ignore_index=True) # create Df(Train+Test) to fill NA Ages()"
      ],
      "execution_count": null,
      "outputs": []
    },
    {
      "cell_type": "code",
      "metadata": {
        "id": "wiqgI0jTA0uG"
      },
      "source": [
        "merg_df.Name= merg_df.Name.apply(lambda x:make_group(x)) #I use median of ALL dataset,becouse we have not much data.1309 of all passanger and 419 in test dataFrame. So using median of all passenger will be more usefull\r\n",
        "temp = merg_df.groupby(by='Name',as_index=False)['Age'].median()\r\n",
        "temp.columns = ['Name','Median']\r\n",
        "train_df =fill_na_age(train_df)\r\n",
        "test_df = fill_na_age(test_df)"
      ],
      "execution_count": null,
      "outputs": []
    },
    {
      "cell_type": "code",
      "metadata": {
        "id": "L3wYFsU87Zjq"
      },
      "source": [
        "#Create Target and Train DF\r\n",
        "target = train_df.Survived\r\n",
        "target\r\n",
        "X_train = train_df.drop(columns=['Survived','PassengerId'])\r\n",
        "test_id = test_df.PassengerId\r\n",
        "X_test = test_df.drop(columns=['PassengerId'])"
      ],
      "execution_count": null,
      "outputs": []
    },
    {
      "cell_type": "code",
      "metadata": {
        "colab": {
          "base_uri": "https://localhost:8080/",
          "height": 419
        },
        "id": "zG4zsvMQIitu",
        "outputId": "837ccb56-4fea-4f6a-bc4c-ca0eaa6ffeff"
      },
      "source": [
        "X_train"
      ],
      "execution_count": null,
      "outputs": [
        {
          "output_type": "execute_result",
          "data": {
            "text/html": [
              "<div>\n",
              "<style scoped>\n",
              "    .dataframe tbody tr th:only-of-type {\n",
              "        vertical-align: middle;\n",
              "    }\n",
              "\n",
              "    .dataframe tbody tr th {\n",
              "        vertical-align: top;\n",
              "    }\n",
              "\n",
              "    .dataframe thead th {\n",
              "        text-align: right;\n",
              "    }\n",
              "</style>\n",
              "<table border=\"1\" class=\"dataframe\">\n",
              "  <thead>\n",
              "    <tr style=\"text-align: right;\">\n",
              "      <th></th>\n",
              "      <th>Sex</th>\n",
              "      <th>Age</th>\n",
              "      <th>isAlone</th>\n",
              "      <th>Fare</th>\n",
              "      <th>Pclass_2</th>\n",
              "      <th>Pclass_3</th>\n",
              "      <th>Cabin_Z</th>\n",
              "      <th>FareEq</th>\n",
              "      <th>Name_Miss.</th>\n",
              "      <th>Name_Mr.</th>\n",
              "      <th>Name_Mrs.</th>\n",
              "      <th>Name_Other</th>\n",
              "    </tr>\n",
              "  </thead>\n",
              "  <tbody>\n",
              "    <tr>\n",
              "      <th>0</th>\n",
              "      <td>1</td>\n",
              "      <td>22</td>\n",
              "      <td>0</td>\n",
              "      <td>1</td>\n",
              "      <td>0</td>\n",
              "      <td>1</td>\n",
              "      <td>1</td>\n",
              "      <td>0</td>\n",
              "      <td>0</td>\n",
              "      <td>1</td>\n",
              "      <td>0</td>\n",
              "      <td>0</td>\n",
              "    </tr>\n",
              "    <tr>\n",
              "      <th>1</th>\n",
              "      <td>1</td>\n",
              "      <td>35</td>\n",
              "      <td>1</td>\n",
              "      <td>1</td>\n",
              "      <td>0</td>\n",
              "      <td>1</td>\n",
              "      <td>1</td>\n",
              "      <td>0</td>\n",
              "      <td>0</td>\n",
              "      <td>1</td>\n",
              "      <td>0</td>\n",
              "      <td>0</td>\n",
              "    </tr>\n",
              "    <tr>\n",
              "      <th>2</th>\n",
              "      <td>1</td>\n",
              "      <td>29</td>\n",
              "      <td>1</td>\n",
              "      <td>1</td>\n",
              "      <td>0</td>\n",
              "      <td>1</td>\n",
              "      <td>1</td>\n",
              "      <td>0</td>\n",
              "      <td>0</td>\n",
              "      <td>1</td>\n",
              "      <td>0</td>\n",
              "      <td>0</td>\n",
              "    </tr>\n",
              "    <tr>\n",
              "      <th>3</th>\n",
              "      <td>1</td>\n",
              "      <td>54</td>\n",
              "      <td>1</td>\n",
              "      <td>5</td>\n",
              "      <td>0</td>\n",
              "      <td>0</td>\n",
              "      <td>0</td>\n",
              "      <td>1</td>\n",
              "      <td>0</td>\n",
              "      <td>1</td>\n",
              "      <td>0</td>\n",
              "      <td>0</td>\n",
              "    </tr>\n",
              "    <tr>\n",
              "      <th>4</th>\n",
              "      <td>1</td>\n",
              "      <td>20</td>\n",
              "      <td>1</td>\n",
              "      <td>1</td>\n",
              "      <td>0</td>\n",
              "      <td>1</td>\n",
              "      <td>1</td>\n",
              "      <td>0</td>\n",
              "      <td>0</td>\n",
              "      <td>1</td>\n",
              "      <td>0</td>\n",
              "      <td>0</td>\n",
              "    </tr>\n",
              "    <tr>\n",
              "      <th>...</th>\n",
              "      <td>...</td>\n",
              "      <td>...</td>\n",
              "      <td>...</td>\n",
              "      <td>...</td>\n",
              "      <td>...</td>\n",
              "      <td>...</td>\n",
              "      <td>...</td>\n",
              "      <td>...</td>\n",
              "      <td>...</td>\n",
              "      <td>...</td>\n",
              "      <td>...</td>\n",
              "      <td>...</td>\n",
              "    </tr>\n",
              "    <tr>\n",
              "      <th>886</th>\n",
              "      <td>1</td>\n",
              "      <td>44</td>\n",
              "      <td>1</td>\n",
              "      <td>4</td>\n",
              "      <td>0</td>\n",
              "      <td>0</td>\n",
              "      <td>1</td>\n",
              "      <td>1</td>\n",
              "      <td>0</td>\n",
              "      <td>0</td>\n",
              "      <td>0</td>\n",
              "      <td>1</td>\n",
              "    </tr>\n",
              "    <tr>\n",
              "      <th>887</th>\n",
              "      <td>0</td>\n",
              "      <td>49</td>\n",
              "      <td>1</td>\n",
              "      <td>3</td>\n",
              "      <td>0</td>\n",
              "      <td>0</td>\n",
              "      <td>0</td>\n",
              "      <td>1</td>\n",
              "      <td>0</td>\n",
              "      <td>0</td>\n",
              "      <td>0</td>\n",
              "      <td>1</td>\n",
              "    </tr>\n",
              "    <tr>\n",
              "      <th>888</th>\n",
              "      <td>1</td>\n",
              "      <td>38</td>\n",
              "      <td>1</td>\n",
              "      <td>0</td>\n",
              "      <td>0</td>\n",
              "      <td>0</td>\n",
              "      <td>1</td>\n",
              "      <td>0</td>\n",
              "      <td>0</td>\n",
              "      <td>0</td>\n",
              "      <td>0</td>\n",
              "      <td>1</td>\n",
              "    </tr>\n",
              "    <tr>\n",
              "      <th>889</th>\n",
              "      <td>1</td>\n",
              "      <td>28</td>\n",
              "      <td>0</td>\n",
              "      <td>3</td>\n",
              "      <td>1</td>\n",
              "      <td>0</td>\n",
              "      <td>1</td>\n",
              "      <td>1</td>\n",
              "      <td>0</td>\n",
              "      <td>0</td>\n",
              "      <td>0</td>\n",
              "      <td>1</td>\n",
              "    </tr>\n",
              "    <tr>\n",
              "      <th>890</th>\n",
              "      <td>1</td>\n",
              "      <td>27</td>\n",
              "      <td>1</td>\n",
              "      <td>1</td>\n",
              "      <td>1</td>\n",
              "      <td>0</td>\n",
              "      <td>1</td>\n",
              "      <td>0</td>\n",
              "      <td>0</td>\n",
              "      <td>0</td>\n",
              "      <td>0</td>\n",
              "      <td>1</td>\n",
              "    </tr>\n",
              "  </tbody>\n",
              "</table>\n",
              "<p>891 rows × 12 columns</p>\n",
              "</div>"
            ],
            "text/plain": [
              "     Sex  Age  isAlone  Fare  ...  Name_Miss.  Name_Mr.  Name_Mrs.  Name_Other\n",
              "0      1   22        0     1  ...           0         1          0           0\n",
              "1      1   35        1     1  ...           0         1          0           0\n",
              "2      1   29        1     1  ...           0         1          0           0\n",
              "3      1   54        1     5  ...           0         1          0           0\n",
              "4      1   20        1     1  ...           0         1          0           0\n",
              "..   ...  ...      ...   ...  ...         ...       ...        ...         ...\n",
              "886    1   44        1     4  ...           0         0          0           1\n",
              "887    0   49        1     3  ...           0         0          0           1\n",
              "888    1   38        1     0  ...           0         0          0           1\n",
              "889    1   28        0     3  ...           0         0          0           1\n",
              "890    1   27        1     1  ...           0         0          0           1\n",
              "\n",
              "[891 rows x 12 columns]"
            ]
          },
          "metadata": {
            "tags": []
          },
          "execution_count": 20
        }
      ]
    },
    {
      "cell_type": "code",
      "metadata": {
        "colab": {
          "base_uri": "https://localhost:8080/"
        },
        "id": "OvmYvsgB7Ztz",
        "outputId": "ec8a8ab2-fbbc-447b-d604-0b06955d0a56"
      },
      "source": [
        "%%time\r\n",
        "import numpy as np\r\n",
        "import xgboost as xgb\r\n",
        "from xgboost.sklearn import XGBClassifier  \r\n",
        "from sklearn.model_selection import ShuffleSplit\r\n",
        "from sklearn.model_selection import GridSearchCV\r\n",
        "from sklearn.ensemble import RandomForestClassifier\r\n",
        "from sklearn.model_selection import StratifiedKFold\r\n",
        "from sklearn.linear_model import LogisticRegression\r\n",
        "\r\n",
        "cv=StratifiedKFold(n_splits=3,shuffle=True,random_state=5)\r\n",
        "param_test2 = {\r\n",
        "   'bootstrap': [True,False],\r\n",
        "  'class_weight':['balanced', 'balanced_subsample'],\r\n",
        " 'max_depth': range(2,10,1),\r\n",
        " 'criterion': ['gini','entropy'],\r\n",
        " 'max_features': ['auto','log2'],\r\n",
        " 'min_samples_leaf': [1, 2, 4,7],\r\n",
        " 'min_samples_split': [2, 3, 5,7],\r\n",
        " 'n_estimators': range(20,140,20)\r\n",
        "              }\r\n",
        "gsearch1 = GridSearchCV(estimator =   RandomForestClassifier(), \r\n",
        " param_grid = param_test2,verbose=4,n_jobs=-1,cv=cv).fit(X_train,target)\r\n",
        "print(gsearch1.best_params_)"
      ],
      "execution_count": null,
      "outputs": [
        {
          "output_type": "stream",
          "text": [
            "Fitting 3 folds for each of 12288 candidates, totalling 36864 fits\n"
          ],
          "name": "stdout"
        },
        {
          "output_type": "stream",
          "text": [
            "[Parallel(n_jobs=-1)]: Using backend LokyBackend with 2 concurrent workers.\n",
            "[Parallel(n_jobs=-1)]: Done  38 tasks      | elapsed:    3.6s\n",
            "[Parallel(n_jobs=-1)]: Done 184 tasks      | elapsed:   17.1s\n",
            "[Parallel(n_jobs=-1)]: Done 430 tasks      | elapsed:   40.6s\n",
            "[Parallel(n_jobs=-1)]: Done 772 tasks      | elapsed:  1.2min\n",
            "[Parallel(n_jobs=-1)]: Done 1214 tasks      | elapsed:  1.9min\n",
            "[Parallel(n_jobs=-1)]: Done 1752 tasks      | elapsed:  2.8min\n",
            "[Parallel(n_jobs=-1)]: Done 2390 tasks      | elapsed:  3.8min\n",
            "[Parallel(n_jobs=-1)]: Done 3124 tasks      | elapsed:  5.0min\n",
            "[Parallel(n_jobs=-1)]: Done 3958 tasks      | elapsed:  6.4min\n",
            "[Parallel(n_jobs=-1)]: Done 4888 tasks      | elapsed:  7.9min\n",
            "[Parallel(n_jobs=-1)]: Done 5918 tasks      | elapsed:  9.6min\n",
            "[Parallel(n_jobs=-1)]: Done 7044 tasks      | elapsed: 11.4min\n",
            "[Parallel(n_jobs=-1)]: Done 8270 tasks      | elapsed: 13.5min\n",
            "[Parallel(n_jobs=-1)]: Done 9592 tasks      | elapsed: 15.9min\n",
            "[Parallel(n_jobs=-1)]: Done 11014 tasks      | elapsed: 18.7min\n",
            "[Parallel(n_jobs=-1)]: Done 12532 tasks      | elapsed: 21.8min\n",
            "[Parallel(n_jobs=-1)]: Done 14150 tasks      | elapsed: 25.1min\n",
            "[Parallel(n_jobs=-1)]: Done 15864 tasks      | elapsed: 28.6min\n",
            "[Parallel(n_jobs=-1)]: Done 17678 tasks      | elapsed: 32.4min\n",
            "[Parallel(n_jobs=-1)]: Done 19588 tasks      | elapsed: 35.5min\n",
            "[Parallel(n_jobs=-1)]: Done 21598 tasks      | elapsed: 38.3min\n",
            "[Parallel(n_jobs=-1)]: Done 23704 tasks      | elapsed: 41.2min\n",
            "[Parallel(n_jobs=-1)]: Done 25910 tasks      | elapsed: 44.2min\n",
            "[Parallel(n_jobs=-1)]: Done 28212 tasks      | elapsed: 47.6min\n",
            "[Parallel(n_jobs=-1)]: Done 30614 tasks      | elapsed: 50.8min\n",
            "[Parallel(n_jobs=-1)]: Done 33112 tasks      | elapsed: 54.3min\n",
            "[Parallel(n_jobs=-1)]: Done 35710 tasks      | elapsed: 57.9min\n",
            "[Parallel(n_jobs=-1)]: Done 36864 out of 36864 | elapsed: 59.7min finished\n"
          ],
          "name": "stderr"
        },
        {
          "output_type": "stream",
          "text": [
            "{'bootstrap': True, 'class_weight': 'balanced_subsample', 'criterion': 'gini', 'max_depth': 9, 'max_features': 'log2', 'min_samples_leaf': 1, 'min_samples_split': 5, 'n_estimators': 20}\n",
            "CPU times: user 1min 55s, sys: 2.7 s, total: 1min 58s\n",
            "Wall time: 59min 41s\n"
          ],
          "name": "stdout"
        }
      ]
    },
    {
      "cell_type": "code",
      "metadata": {
        "id": "bRllxTeA_bfx"
      },
      "source": [
        "#THIS IS NOT MY CODE. I TOOK IT FROM INTERNET TO CHECK SOME PROBLEMS(overfitting)\r\n",
        "def plot_learning_curve(estimator, title, X, y, ylim=None, cv=None,\r\n",
        "                        n_jobs=-1, train_sizes=np.linspace(.1, 1.0, 5)):\r\n",
        "    'Generate a simple plot of the test and training learning curve'\r\n",
        "    plt.figure()\r\n",
        "    plt.title(title)\r\n",
        "    if ylim is not None:\r\n",
        "        plt.ylim(*ylim)\r\n",
        "    plt.xlabel('Training examples')\r\n",
        "    plt.ylabel('Score')\r\n",
        "    train_sizes, train_scores, test_scores = learning_curve(\r\n",
        "        estimator, X, y, cv=cv, n_jobs=n_jobs, train_sizes=train_sizes)\r\n",
        "    train_scores_mean = np.mean(train_scores, axis=1)\r\n",
        "    train_scores_std = np.std(train_scores, axis=1)\r\n",
        "    test_scores_mean = np.mean(test_scores, axis=1)\r\n",
        "    test_scores_std = np.std(test_scores, axis=1)\r\n",
        "    plt.grid()\r\n",
        "\r\n",
        "    plt.fill_between(train_sizes, train_scores_mean - train_scores_std,\r\n",
        "                     train_scores_mean + train_scores_std, alpha=0.1,\r\n",
        "                     color=\"r\")\r\n",
        "    plt.fill_between(train_sizes, test_scores_mean - test_scores_std,\r\n",
        "                     test_scores_mean + test_scores_std, alpha=0.1, color=\"g\")\r\n",
        "    plt.plot(train_sizes, train_scores_mean, 'o-', color='r',\r\n",
        "             label='Training score')\r\n",
        "    plt.plot(train_sizes, test_scores_mean, 'o-', color='g',\r\n",
        "             label='Cross-validation score')\r\n",
        "\r\n",
        "    plt.legend(loc='best')\r\n",
        "    return plt"
      ],
      "execution_count": null,
      "outputs": []
    },
    {
      "cell_type": "code",
      "metadata": {
        "colab": {
          "base_uri": "https://localhost:8080/",
          "height": 295
        },
        "id": "NZ6gpPkb-Byn",
        "outputId": "0ba8fa35-14c0-4443-e04c-3d91e8e521ba"
      },
      "source": [
        "#THIS IS NOT MY CODE. I TOOK IT FROM INTERNET TO CHECK SOME PROBLEMS(overfitting)\r\n",
        "from collections import Counter\r\n",
        "from sklearn.neural_network import MLPClassifier\r\n",
        "from sklearn.model_selection import cross_val_score,  learning_curve\r\n",
        "test = gsearch1.best_estimator_\r\n",
        "g = plot_learning_curve(gsearch1.best_estimator_,\"RF mearning curves\",X_train,target,cv=cv)"
      ],
      "execution_count": null,
      "outputs": [
        {
          "output_type": "display_data",
          "data": {
            "image/png": "[encoded data removed]",
            "text/plain": [
              "<Figure size 432x288 with 1 Axes>"
            ]
          },
          "metadata": {
            "tags": [],
            "needs_background": "light"
          }
        }
      ]
    },
    {
      "cell_type": "code",
      "metadata": {
        "colab": {
          "base_uri": "https://localhost:8080/"
        },
        "id": "qS2ke9m0u7PD",
        "outputId": "46a420e3-afa2-40d5-f84d-09f3e5a054b8"
      },
      "source": [
        " #Tuning hyperparams and some Scores\r\n",
        " from sklearn.metrics import accuracy_score\r\n",
        " print(gsearch1.best_params_, gsearch1.best_score_,accuracy_score(target, gsearch1.predict(X_train)))\r\n",
        " #XGBClassifier(objective= 'binary:logistic')\r\n",
        " #{'learning_rate': 0.1, 'max_depth': 5, 'min_child_weight': 3, 'n_estimators': 160} 0.875 0.9102132435465768 CV = 4\r\n",
        " #{'learning_rate': 0.2, 'max_depth': 6, 'min_child_weight': 5, 'n_estimators': 110} 0.8611111111111112 0.9147025813692481 CV = 4\r\n",
        " #{'learning_rate': 0.2, 'max_depth': 5, 'min_child_weight': 6, 'n_estimators': 100} 0.8755555555555556 0.9046015712682379 CV = 5\r\n",
        " #{'learning_rate': 0.15, 'max_depth': 3, 'min_child_weight': 5, 'n_estimators': 100} 0.8422222222222222 0.8799102132435466 CV = 5 add new colomns (isAlone)\r\n",
        " #{'learning_rate': 0.2, 'max_depth': 5, 'min_child_weight': 4, 'n_estimators': 130} 0.8777777777777779 0.9090909090909091 CV = 5 add new colomns (isAlone)\r\n",
        " #{'learning_rate': 0.3, 'max_depth': 3, 'min_child_weight': 3, 'n_estimators': 110} 0.8481481481481481 0.9012345679012346 CV =3 \r\n",
        " #{'learning_rate': 0.3, 'max_depth': 7, 'min_child_weight': 5, 'n_estimators': 150} 0.8407407407407407 0.9135802469135802 cv = 3\r\n",
        " #{'learning_rate': 0.5, 'max_depth': 6, 'min_child_weight': 3, 'n_estimators': 130} 0.8422222222222222 0.9405162738496072 CV = 10\r\n",
        " #{'learning_rate': 0.5, 'max_depth': 2, 'min_child_weight': 2, 'n_estimators': 90} 0.8638888888888888 0.8922558922558923 CV =4\r\n",
        " #{'learning_rate': 0.4, 'max_depth': 3, 'min_child_weight': 5, 'n_estimators': 130} 0.8861111111111111 0.9001122334455668 CV=4\r\n",
        " #{'learning_rate': 0.5, 'max_depth': 2, 'min_child_weight': 2, 'n_estimators': 130} 0.85 0.9012345679012346 CV = 10 Результат 0.77033\r\n",
        " #{'learning_rate': 0.6, 'max_depth': 3, 'min_child_weight': 5, 'n_estimators': 70} 0.868888888888889 0.898989898989899 CV = 10 0.76794\r\n",
        "#Random Treee\r\n",
        "#{'bootstrap': False, 'max_depth': None, 'max_features': 'auto', 'min_samples_leaf': 4, 'min_samples_split': 5, 'n_estimators': 100} 0.8355555555555556 0.8900112233445566 CV = 10 BEST SCORE = 0.78229\r\n",
        "#{'bootstrap': False, 'max_depth': 6, 'max_features': 'auto', 'min_samples_leaf': 4, 'min_samples_split': 2, 'n_estimators': 100} 0.8222222222222223 0.8619528619528619  cv=4 SCORE = 0.78229\r\n",
        "#{'bootstrap': False, 'max_depth': 6, 'max_features': 'auto', 'min_samples_leaf': 2, 'min_samples_split': 5, 'n_estimators': 100} 0.8444444444444444 0.8720538720538721 cv = 2 BEST SCORE OVER ALL 0.79425\r\n",
        "#{'bootstrap': False, 'max_depth': 15, 'max_features': 'auto', 'min_samples_leaf': 2, 'min_samples_split': 2, 'n_estimators': 130} 0.8444444444444444 0.9270482603815937 cv=1 score 0.77990\r\n",
        "#{'bootstrap': False, 'class_weight': 'balanced', 'criterion': 'gini', 'max_depth': None, 'max_features': 'log2', 'min_samples_leaf': 2, 'min_samples_split': 7, 'n_estimators': 140} 0.8777777777777778 0.9147025813692481 CV=2 0.76315\r\n",
        "#{'bootstrap': False, 'class_weight': 'balanced', 'criterion': 'gini', 'max_depth': 2, 'max_features': 'log2', 'min_samples_leaf': 1, 'min_samples_split': 7, 'n_estimators': 80} 0.793462488033456 0.7822671156004489\r\n",
        "#{'bootstrap': False, 'class_weight': 'balanced', 'criterion': 'gini', 'max_depth': 2, 'max_features': 'log2', 'min_samples_leaf': 1, 'min_samples_split': 7, 'n_estimators': 80} 0.793462488033456 0.7822671156004489 CV=2 0.75119\r\n",
        "#{'bootstrap': False, 'class_weight': 'balanced', 'criterion': 'gini', 'max_depth': 2, 'max_features': 'auto', 'min_samples_leaf': 7, 'min_samples_split': 2, 'n_estimators': 180} 0.7654320987654321 0.7822671156004489 CV=3 0.75119\r\n",
        "#{'bootstrap': False, 'class_weight': 'balanced_subsample', 'criterion': 'entropy', 'max_depth': 8, 'max_features': 'auto', 'min_samples_leaf': 1, 'min_samples_split': 7, 'n_estimators': 140} 0.8136897264070136 0.8945005611672279 CV=2 0.77511\r\n",
        "#Random Treee Equality Features\r\n",
        "#{'bootstrap': True, 'class_weight': 'balanced', 'criterion': 'entropy', 'max_depth': 9, 'max_features': 'auto', 'min_samples_leaf': 2, 'min_samples_split': 3, 'n_estimators': 80} 0.8383770287141074 0.8967452300785634 CV = 10 0.77272\r\n",
        "#{'bootstrap': False, 'class_weight': 'balanced', 'criterion': 'entropy', 'max_depth': 9, 'max_features': 'auto', 'min_samples_leaf': 1, 'min_samples_split': 3, 'n_estimators': 80} 0.8125736887186981 0.920314253647587 CV=2 0.78229\r\n",
        "#{'bootstrap': True, 'class_weight': 'balanced_subsample', 'criterion': 'gini', 'max_depth': 8, 'max_features': 'auto', 'min_samples_leaf': 2, 'min_samples_split': 2, 'n_estimators': 120} 0.8350168350168351 0.8900112233445566 CV=3 0.77272\r\n",
        "#'bootstrap': True, 'class_weight': 'balanced', 'criterion': 'entropy', 'max_depth': 8, 'max_features': 'auto', 'min_samples_leaf': 2, 'min_samples_split': 5, 'n_estimators': 160} 0.8372318506847655 0.8832772166105499 CV=4  0.77511\r\n",
        "#LogicReg\r\n",
        "#{'C': 1.2915496650148828, 'class_weight': None, 'max_iter': 110, 'penalty': 'l2', 'solver': 'lbfgs'} 0.8024814833476093 0.8215488215488216 CV=2 0.76555\r\n",
        "#{'C': 1.2915496650148828, 'class_weight': None, 'max_iter': 100, 'penalty': 'l2', 'solver': 'lbfgs'} 0.8125717852684143 0.8181818181818182 CV=10 0.75837\r\n",
        "#XGBOST\r\n",
        "#{'gamma': 0.5, 'learning_rate': 0.43651583224016566, 'max_depth': 7, 'min_child_weight': 3, 'n_estimators': 110, 'scale_pos_weight': 1, 'subsample': 0.7079457843841379} 0.8305361011739809 0.9270482603815937 CV=2 0.75358\r\n",
        "#{'gamma': 1, 'learning_rate': 0.43651583224016566, 'max_depth': 4, 'min_child_weight': 3, 'n_estimators': 70, 'scale_pos_weight': 1, 'subsample': 0.5011872336272722} 0.8507615480649188 0.8922558922558923 CV = 10 0.76555\r\n",
        "#{'gamma': 0, 'learning_rate': 0.09549925860214355, 'max_depth': 4, 'min_child_weight': 3, 'n_estimators': 110, 'scale_pos_weight': 1, 'subsample': 0.7079457843841379} 0.8451070240411775 0.8956228956228957 CV=5  0.77272\r\n",
        "#{'gamma': 0, 'learning_rate': 0.43651583224016566, 'max_depth': 3, 'min_child_weight': 3, 'n_estimators': 110, 'scale_pos_weight': 1, 'subsample': 0.7079457843841379} 0.840628507295174 0.9001122334455668 CV=4\r\n",
        "#NEW DATASET CABIN Y AND CABIN Z\r\n",
        "#XGBBOST\r\n",
        "#{'gamma': 0, 'learning_rate': 0.43651583224016566, 'max_depth': 5, 'min_child_weight': 3, 'n_estimators': 90, 'scale_pos_weight': 1, 'subsample': 0.5011872336272722} 0.8350178868342822 0.8900112233445566 CV=2 0.72966\r\n",
        "#{'gamma': 0, 'learning_rate': 0.09549925860214355, 'max_depth': 5, 'min_child_weight': 3, 'n_estimators': 100, 'scale_pos_weight': 1, 'subsample': 0.5011872336272722} 0.8428661100998054 0.8877665544332211 CV=5 0.77751\r\n",
        "#{'gamma': 1, 'learning_rate': 0.43651583224016566, 'max_depth': 7, 'min_child_weight': 5, 'n_estimators': 110, 'scale_pos_weight': 1, 'subsample': 0.7079457843841379} 0.8462921348314607 0.898989898989899 CV=10 0.76794\r\n",
        "#RandomTree\r\n",
        "#{'bootstrap': True, 'class_weight': 'balanced_subsample', 'criterion': 'gini', 'max_depth': 9, 'max_features': 'log2', 'min_samples_leaf': 1, 'min_samples_split': 3, 'n_estimators': 120} 0.8361057058565062 0.9158249158249159 CV=5 0.77511\r\n",
        "#{'bootstrap': False, 'class_weight': 'balanced', 'criterion': 'entropy', 'max_depth': 8, 'max_features': 'auto', 'min_samples_leaf': 1, 'min_samples_split': 3, 'n_estimators': 20} 0.8148183604574999 0.8933782267115601 CV=2 0.77272\r\n",
        "#{'bootstrap': True, 'class_weight': 'balanced_subsample', 'criterion': 'gini', 'max_depth': 9, 'max_features': 'log2', 'min_samples_leaf': 1, 'min_samples_split': 5, 'n_estimators': 20} 0.8271604938271606 0.8877665544332211 CV=3 0.68421"
      ],
      "execution_count": null,
      "outputs": [
        {
          "output_type": "stream",
          "text": [
            "{'bootstrap': True, 'class_weight': 'balanced_subsample', 'criterion': 'gini', 'max_depth': 9, 'max_features': 'log2', 'min_samples_leaf': 1, 'min_samples_split': 5, 'n_estimators': 20} 0.8271604938271606 0.8877665544332211\n"
          ],
          "name": "stdout"
        }
      ]
    },
    {
      "cell_type": "code",
      "metadata": {
        "colab": {
          "base_uri": "https://localhost:8080/",
          "height": 419
        },
        "id": "OoqMsrlNnPLv",
        "outputId": "1f2c5af3-0340-4462-f2fe-6d621fe1a66b"
      },
      "source": [
        "\r\n",
        "answer = gsearch1.predict(X_test)\r\n",
        "final_anw = pd.concat([pd.Series(answer),test_id,],axis=1)\r\n",
        "columns = ['Survived','PassengerId']\r\n",
        "final_anw = final_anw.sort_values(by=['PassengerId'])\r\n",
        "final_anw = final_anw.reset_index(drop=True)\r\n",
        "final_anw = final_anw[['PassengerId',0]]\r\n",
        "final_anw.columns=['PassengerId','Survived']\r\n",
        "final_anw"
      ],
      "execution_count": null,
      "outputs": [
        {
          "output_type": "execute_result",
          "data": {
            "text/html": [
              "<div>\n",
              "<style scoped>\n",
              "    .dataframe tbody tr th:only-of-type {\n",
              "        vertical-align: middle;\n",
              "    }\n",
              "\n",
              "    .dataframe tbody tr th {\n",
              "        vertical-align: top;\n",
              "    }\n",
              "\n",
              "    .dataframe thead th {\n",
              "        text-align: right;\n",
              "    }\n",
              "</style>\n",
              "<table border=\"1\" class=\"dataframe\">\n",
              "  <thead>\n",
              "    <tr style=\"text-align: right;\">\n",
              "      <th></th>\n",
              "      <th>PassengerId</th>\n",
              "      <th>Survived</th>\n",
              "    </tr>\n",
              "  </thead>\n",
              "  <tbody>\n",
              "    <tr>\n",
              "      <th>0</th>\n",
              "      <td>892</td>\n",
              "      <td>1</td>\n",
              "    </tr>\n",
              "    <tr>\n",
              "      <th>1</th>\n",
              "      <td>893</td>\n",
              "      <td>0</td>\n",
              "    </tr>\n",
              "    <tr>\n",
              "      <th>2</th>\n",
              "      <td>894</td>\n",
              "      <td>0</td>\n",
              "    </tr>\n",
              "    <tr>\n",
              "      <th>3</th>\n",
              "      <td>895</td>\n",
              "      <td>1</td>\n",
              "    </tr>\n",
              "    <tr>\n",
              "      <th>4</th>\n",
              "      <td>896</td>\n",
              "      <td>1</td>\n",
              "    </tr>\n",
              "    <tr>\n",
              "      <th>...</th>\n",
              "      <td>...</td>\n",
              "      <td>...</td>\n",
              "    </tr>\n",
              "    <tr>\n",
              "      <th>413</th>\n",
              "      <td>1305</td>\n",
              "      <td>1</td>\n",
              "    </tr>\n",
              "    <tr>\n",
              "      <th>414</th>\n",
              "      <td>1306</td>\n",
              "      <td>1</td>\n",
              "    </tr>\n",
              "    <tr>\n",
              "      <th>415</th>\n",
              "      <td>1307</td>\n",
              "      <td>1</td>\n",
              "    </tr>\n",
              "    <tr>\n",
              "      <th>416</th>\n",
              "      <td>1308</td>\n",
              "      <td>1</td>\n",
              "    </tr>\n",
              "    <tr>\n",
              "      <th>417</th>\n",
              "      <td>1309</td>\n",
              "      <td>0</td>\n",
              "    </tr>\n",
              "  </tbody>\n",
              "</table>\n",
              "<p>418 rows × 2 columns</p>\n",
              "</div>"
            ],
            "text/plain": [
              "     PassengerId  Survived\n",
              "0            892         1\n",
              "1            893         0\n",
              "2            894         0\n",
              "3            895         1\n",
              "4            896         1\n",
              "..           ...       ...\n",
              "413         1305         1\n",
              "414         1306         1\n",
              "415         1307         1\n",
              "416         1308         1\n",
              "417         1309         0\n",
              "\n",
              "[418 rows x 2 columns]"
            ]
          },
          "metadata": {
            "tags": []
          },
          "execution_count": 18
        }
      ]
    },
    {
      "cell_type": "code",
      "metadata": {
        "colab": {
          "base_uri": "https://localhost:8080/"
        },
        "id": "AoYUHMxJBE8v",
        "outputId": "24b37c58-9a91-4b61-dea5-a21402755490"
      },
      "source": [
        "#Download Answer to Google Drive\r\n",
        "from google.colab import drive\r\n",
        "drive.mount('drive')\r\n",
        "final_anw.to_csv('Done190.csv',index=False)\r\n",
        "!cp Done190.csv 'drive/My Drive/rep/'"
      ],
      "execution_count": null,
      "outputs": [
        {
          "output_type": "stream",
          "text": [
            "Drive already mounted at drive; to attempt to forcibly remount, call drive.mount(\"drive\", force_remount=True).\n"
          ],
          "name": "stdout"
        }
      ]
    },
    {
      "cell_type": "code",
      "metadata": {
        "id": "5y2Cr23niV-2"
      },
      "source": [
        "#Tuning graveyard:\r\n",
        "#Random Tree\r\n",
        "# 'bootstrap': [True,False],\r\n",
        "#   'class_weight':['balanced', 'balanced_subsample'],\r\n",
        "#  'max_depth': range(2,10,1),\r\n",
        "#  'criterion': ['gini','entropy'],\r\n",
        "#  'max_features': ['auto'],\r\n",
        "#  'min_samples_leaf': [1, 2, 4,7],\r\n",
        "#  'min_samples_split': [2, 3, 5,7],\r\n",
        "#  'n_estimators': range(80,190,20)\r\n",
        "#XGBBOST\r\n",
        "# 'max_depth':range(3,8,1),\r\n",
        "#      'min_child_weight':range(1,6,2),\r\n",
        "#      'learning_rate':np.logspace(-3,0.3,num=6),\r\n",
        "#      'n_estimators':range(70,170,20),\r\n",
        "#      'subsample': np.logspace(-0.3,0,num=3),\r\n",
        "#      'gamma': [0,0.5,1,6,10],\r\n",
        "#      'scale_pos_weight':[1,1.5,2]"
      ],
      "execution_count": null,
      "outputs": []
    }
  ]
}